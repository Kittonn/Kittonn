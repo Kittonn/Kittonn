{
  "cells": [
    {
      "cell_type": "markdown",
      "metadata": {
        "id": "view-in-github",
        "colab_type": "text"
      },
      "source": [
        "<a href=\"https://colab.research.google.com/github/Kittonn/Kittonn/blob/main/main.ipynb\" target=\"_parent\"><img src=\"https://colab.research.google.com/assets/colab-badge.svg\" alt=\"Open In Colab\"/></a>"
      ]
    },
    {
      "cell_type": "markdown",
      "metadata": {
        "id": "F8VWh7LHzS1B"
      },
      "source": [
        "# Download Dataset"
      ]
    },
    {
      "cell_type": "code",
      "execution_count": null,
      "metadata": {
        "id": "fUI1IyOpxz74"
      },
      "outputs": [],
      "source": [
        "from google.colab import drive\n",
        "drive.mount('/content/drive')"
      ]
    },
    {
      "cell_type": "code",
      "execution_count": null,
      "metadata": {
        "id": "P9CDIKOlx4Bs"
      },
      "outputs": [],
      "source": [
        "! pip install kaggle\n",
        "! mkdir ~/.kaggle"
      ]
    },
    {
      "cell_type": "code",
      "execution_count": 3,
      "metadata": {
        "id": "PQWSMkmrx8-U"
      },
      "outputs": [],
      "source": [
        "!cp /content/drive/MyDrive/linear/kaggle.json ~/.kaggle/kaggle.json"
      ]
    },
    {
      "cell_type": "code",
      "execution_count": null,
      "metadata": {
        "id": "piKHir6VyHNc"
      },
      "outputs": [],
      "source": [
        "! kaggle datasets download -d aryashah2k/indian-medicinal-leaves-dataset"
      ]
    },
    {
      "cell_type": "code",
      "source": [
        "! unzip /content/indian-medicinal-leaves-dataset.zip -d ."
      ],
      "metadata": {
        "id": "4NJbcq5_YBRH"
      },
      "execution_count": null,
      "outputs": []
    },
    {
      "cell_type": "markdown",
      "source": [
        "# Import Library"
      ],
      "metadata": {
        "id": "ZdxFiZ2CY9s_"
      }
    },
    {
      "cell_type": "code",
      "source": [
        "!pip install efficientnet_pytorch"
      ],
      "metadata": {
        "id": "JHhnivnfariD"
      },
      "execution_count": null,
      "outputs": []
    },
    {
      "cell_type": "code",
      "source": [
        "import os\n",
        "\n",
        "import torch\n",
        "import torch.nn as nn\n",
        "import torch.optim as optim\n",
        "from torch.utils.data import random_split, DataLoader, Subset\n",
        "from torchvision import transforms\n",
        "from torchvision.datasets import ImageFolder\n",
        "from torchvision.utils import make_grid\n",
        "import matplotlib.pyplot as plt"
      ],
      "metadata": {
        "id": "onXl0yiQZCTW"
      },
      "execution_count": 7,
      "outputs": []
    },
    {
      "cell_type": "markdown",
      "source": [
        "# Training & Validation Data\n",
        "\n",
        "https://debuggercafe.com/transfer-learning-using-efficientnet-pytorch/"
      ],
      "metadata": {
        "id": "p9hgyx7xY27p"
      }
    },
    {
      "cell_type": "code",
      "source": [
        "class Dataset:\n",
        "    def __init__(self):\n",
        "      self.data_dir = \"/content/Indian Medicinal Leaves Image Datasets/Medicinal Leaf dataset\"\n",
        "      self.batch_size = 16\n",
        "      self.image_size = 224\n",
        "      self.num_workers = 4\n",
        "      self.valid_split = 0.2\n",
        "      self.train_transform = transforms.Compose([\n",
        "          transforms.RandomRotation(10),\n",
        "          transforms.RandomHorizontalFlip(),\n",
        "          transforms.Resize(256),\n",
        "          transforms.CenterCrop(self.image_size),\n",
        "          transforms.TrivialAugmentWide(),\n",
        "          transforms.ToTensor(),\n",
        "          transforms.Normalize([0.5, 0.5, 0.5], [0.5, 0.5, 0.5]),\n",
        "      ])\n",
        "      self.valid_transform = transforms.Compose([\n",
        "          transforms.Resize(256),\n",
        "          transforms.CenterCrop(self.image_size),\n",
        "          transforms.ToTensor(),\n",
        "          transforms.Normalize([0.5, 0.5, 0.5], [0.5, 0.5, 0.5]),\n",
        "      ])\n",
        "\n",
        "    def get_datasets(self):\n",
        "      datasets = ImageFolder(root=self.data_dir, transform=self.train_transform)\n",
        "      valid_datasets = ImageFolder(root=self.data_dir, transform=self.valid_transform)\n",
        "      dataset_size = len(datasets)\n",
        "      valid_size = int(self.valid_split * dataset_size)\n",
        "\n",
        "      indices = torch.randperm(dataset_size).tolist()\n",
        "\n",
        "      train_datasets = Subset(datasets, indices[:-valid_size])\n",
        "      valid_datasets = Subset(valid_datasets, indices[-valid_size:])\n",
        "\n",
        "      return train_datasets, valid_datasets, datasets.classes\n",
        "\n",
        "    def get_data_loaders(self, train_datasets, valid_datasets):\n",
        "      train_loader = DataLoader(train_datasets, batch_size=self.batch_size, num_workers=self.num_workers,shuffle=True)\n",
        "      valid_loader = DataLoader(valid_datasets, batch_size=self.batch_size, num_workers=self.num_workers,shuffle=False)\n",
        "      return train_loader, valid_loader\n"
      ],
      "metadata": {
        "id": "1rqN7IA0i-tf"
      },
      "execution_count": 18,
      "outputs": []
    },
    {
      "cell_type": "markdown",
      "source": [
        "# Main"
      ],
      "metadata": {
        "id": "50iY_h93dsPf"
      }
    },
    {
      "cell_type": "code",
      "source": [
        "if __name__ == \"__main__\":\n",
        "  dataset = Dataset()\n",
        "  train_datasets, valid_datasets, classes = dataset.get_datasets()\n",
        "  print(len(train_datasets), len(valid_datasets), classes)\n",
        "  train_loader, valid_loader = dataset.get_data_loaders(train_datasets, valid_datasets)\n",
        "  print(len(train_loader), len(valid_loader))"
      ],
      "metadata": {
        "id": "mGzQ8zJjW42d"
      },
      "execution_count": null,
      "outputs": []
    }
  ],
  "metadata": {
    "colab": {
      "provenance": [],
      "collapsed_sections": [
        "F8VWh7LHzS1B"
      ],
      "mount_file_id": "1EsdHmQznU3ePlCRvyTNK2HXNq1Bdg7Ya",
      "authorship_tag": "ABX9TyO2XBdwiioZKJgg2moB391R",
      "include_colab_link": true
    },
    "kernelspec": {
      "display_name": "Python 3",
      "name": "python3"
    },
    "language_info": {
      "name": "python"
    }
  },
  "nbformat": 4,
  "nbformat_minor": 0
}